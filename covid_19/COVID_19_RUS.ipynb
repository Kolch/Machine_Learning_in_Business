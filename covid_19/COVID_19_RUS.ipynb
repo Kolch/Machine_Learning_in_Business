{
 "cells": [
  {
   "cell_type": "code",
   "execution_count": 5,
   "metadata": {},
   "outputs": [],
   "source": [
    "import pandas as pd\n",
    "import numpy as np\n",
    "\n",
    "import matplotlib.pyplot as plt"
   ]
  },
  {
   "cell_type": "code",
   "execution_count": 6,
   "metadata": {},
   "outputs": [],
   "source": [
    "COVID_ = pd.read_csv('covid_19_data.csv')\n",
    "COVID = COVID_.copy()\n",
    "COVID_['Data']= pd.to_datetime(COVID_['ObservationDate']).dt.date\n",
    "COVID['Data']= pd.to_datetime(COVID['ObservationDate']).dt.date"
   ]
  },
  {
   "cell_type": "code",
   "execution_count": 7,
   "metadata": {},
   "outputs": [
    {
     "name": "stderr",
     "output_type": "stream",
     "text": [
      "C:\\Users\\alex0\\Anaconda\\lib\\site-packages\\ipykernel_launcher.py:1: FutureWarning: Indexing with multiple keys (implicitly converted to a tuple of keys) will be deprecated, use a list instead.\n",
      "  \"\"\"Entry point for launching an IPython kernel.\n"
     ]
    }
   ],
   "source": [
    "COVID = COVID.groupby(['Data','Country/Region'])['Confirmed','Deaths','Recovered'].sum()"
   ]
  },
  {
   "cell_type": "code",
   "execution_count": 8,
   "metadata": {},
   "outputs": [
    {
     "data": {
      "text/html": [
       "<div>\n",
       "<style scoped>\n",
       "    .dataframe tbody tr th:only-of-type {\n",
       "        vertical-align: middle;\n",
       "    }\n",
       "\n",
       "    .dataframe tbody tr th {\n",
       "        vertical-align: top;\n",
       "    }\n",
       "\n",
       "    .dataframe thead th {\n",
       "        text-align: right;\n",
       "    }\n",
       "</style>\n",
       "<table border=\"1\" class=\"dataframe\">\n",
       "  <thead>\n",
       "    <tr style=\"text-align: right;\">\n",
       "      <th></th>\n",
       "      <th></th>\n",
       "      <th>Confirmed</th>\n",
       "      <th>Deaths</th>\n",
       "      <th>Recovered</th>\n",
       "    </tr>\n",
       "    <tr>\n",
       "      <th>Data</th>\n",
       "      <th>Country/Region</th>\n",
       "      <th></th>\n",
       "      <th></th>\n",
       "      <th></th>\n",
       "    </tr>\n",
       "  </thead>\n",
       "  <tbody>\n",
       "    <tr>\n",
       "      <th rowspan=\"5\" valign=\"top\">2020-01-22</th>\n",
       "      <th>Hong Kong</th>\n",
       "      <td>0.0</td>\n",
       "      <td>0.0</td>\n",
       "      <td>0.0</td>\n",
       "    </tr>\n",
       "    <tr>\n",
       "      <th>Japan</th>\n",
       "      <td>2.0</td>\n",
       "      <td>0.0</td>\n",
       "      <td>0.0</td>\n",
       "    </tr>\n",
       "    <tr>\n",
       "      <th>Macau</th>\n",
       "      <td>1.0</td>\n",
       "      <td>0.0</td>\n",
       "      <td>0.0</td>\n",
       "    </tr>\n",
       "    <tr>\n",
       "      <th>Mainland China</th>\n",
       "      <td>547.0</td>\n",
       "      <td>17.0</td>\n",
       "      <td>28.0</td>\n",
       "    </tr>\n",
       "    <tr>\n",
       "      <th>South Korea</th>\n",
       "      <td>1.0</td>\n",
       "      <td>0.0</td>\n",
       "      <td>0.0</td>\n",
       "    </tr>\n",
       "    <tr>\n",
       "      <th>...</th>\n",
       "      <th>...</th>\n",
       "      <td>...</td>\n",
       "      <td>...</td>\n",
       "      <td>...</td>\n",
       "    </tr>\n",
       "    <tr>\n",
       "      <th rowspan=\"5\" valign=\"top\">2020-04-11</th>\n",
       "      <th>West Bank and Gaza</th>\n",
       "      <td>268.0</td>\n",
       "      <td>2.0</td>\n",
       "      <td>57.0</td>\n",
       "    </tr>\n",
       "    <tr>\n",
       "      <th>Western Sahara</th>\n",
       "      <td>4.0</td>\n",
       "      <td>0.0</td>\n",
       "      <td>0.0</td>\n",
       "    </tr>\n",
       "    <tr>\n",
       "      <th>Yemen</th>\n",
       "      <td>1.0</td>\n",
       "      <td>0.0</td>\n",
       "      <td>0.0</td>\n",
       "    </tr>\n",
       "    <tr>\n",
       "      <th>Zambia</th>\n",
       "      <td>40.0</td>\n",
       "      <td>2.0</td>\n",
       "      <td>28.0</td>\n",
       "    </tr>\n",
       "    <tr>\n",
       "      <th>Zimbabwe</th>\n",
       "      <td>14.0</td>\n",
       "      <td>3.0</td>\n",
       "      <td>0.0</td>\n",
       "    </tr>\n",
       "  </tbody>\n",
       "</table>\n",
       "<p>7548 rows × 3 columns</p>\n",
       "</div>"
      ],
      "text/plain": [
       "                               Confirmed  Deaths  Recovered\n",
       "Data       Country/Region                                  \n",
       "2020-01-22 Hong Kong                 0.0     0.0        0.0\n",
       "           Japan                     2.0     0.0        0.0\n",
       "           Macau                     1.0     0.0        0.0\n",
       "           Mainland China          547.0    17.0       28.0\n",
       "           South Korea               1.0     0.0        0.0\n",
       "...                                  ...     ...        ...\n",
       "2020-04-11 West Bank and Gaza      268.0     2.0       57.0\n",
       "           Western Sahara            4.0     0.0        0.0\n",
       "           Yemen                     1.0     0.0        0.0\n",
       "           Zambia                   40.0     2.0       28.0\n",
       "           Zimbabwe                 14.0     3.0        0.0\n",
       "\n",
       "[7548 rows x 3 columns]"
      ]
     },
     "execution_count": 8,
     "metadata": {},
     "output_type": "execute_result"
    }
   ],
   "source": [
    "COVID"
   ]
  },
  {
   "cell_type": "markdown",
   "metadata": {},
   "source": [
    "### EDA"
   ]
  },
  {
   "cell_type": "code",
   "execution_count": 9,
   "metadata": {},
   "outputs": [],
   "source": [
    "rus_data = COVID.loc[COVID.index.get_level_values('Country/Region')=='Russia', ['Confirmed','Deaths','Recovered']]"
   ]
  },
  {
   "cell_type": "code",
   "execution_count": 11,
   "metadata": {},
   "outputs": [],
   "source": [
    "rus_data.index = pd.to_datetime(rus_data.index.droplevel(1))"
   ]
  },
  {
   "cell_type": "code",
   "execution_count": 19,
   "metadata": {},
   "outputs": [
    {
     "data": {
      "image/png": "[encoded data removed]",
      "text/plain": [
       "<Figure size 432x288 with 1 Axes>"
      ]
     },
     "metadata": {
      "needs_background": "light"
     },
     "output_type": "display_data"
    }
   ],
   "source": [
    "rus_data.loc[(rus_data.index.get_level_values('Data') > pd.to_datetime('2020-03-01')), ['Confirmed','Deaths','Recovered']].plot()\n",
    "plt.show()"
   ]
  },
  {
   "cell_type": "markdown",
   "metadata": {},
   "source": [
    "Посмотрим на первые разности прироста заболевших"
   ]
  },
  {
   "cell_type": "code",
   "execution_count": 36,
   "metadata": {},
   "outputs": [
    {
     "data": {
      "image/png": "[encoded data removed]",
      "text/plain": [
       "<Figure size 1080x576 with 1 Axes>"
      ]
     },
     "metadata": {
      "needs_background": "light"
     },
     "output_type": "display_data"
    }
   ],
   "source": [
    "rus_data['diff1'] = rus_data['Confirmed'].diff(1)\n",
    "rus_data_diff.fillna(0)\n",
    "plt.figure(figsize=(15, 8))\n",
    "plt.plot(rus_data['diff1'])\n",
    "plt.show()"
   ]
  },
  {
   "cell_type": "markdown",
   "metadata": {},
   "source": [
    "Сделаем сглаживание для разностей "
   ]
  },
  {
   "cell_type": "code",
   "execution_count": 50,
   "metadata": {},
   "outputs": [
    {
     "data": {
      "text/plain": [
       "Text(0.5, 1.0, 'COVID_19 RUS')"
      ]
     },
     "execution_count": 50,
     "metadata": {},
     "output_type": "execute_result"
    },
    {
     "data": {
      "image/png": "[encoded data removed]",
      "text/plain": [
       "<Figure size 1440x648 with 1 Axes>"
      ]
     },
     "metadata": {
      "needs_background": "light"
     },
     "output_type": "display_data"
    }
   ],
   "source": [
    "def exponential_smoothing(series, alpha):\n",
    "    result = [series[0]] # first value is same as series\n",
    "    for n in range(1, len(series)):\n",
    "        result.append(alpha * series[n] + (1 - alpha) * result[n-1])\n",
    "    return result\n",
    "\n",
    "N2 = 24*7\n",
    "\n",
    "exp_1 = exponential_smoothing(rus_data['Confirmed'], 0.02)\n",
    "\n",
    "plt.figure(figsize=(20, 9))\n",
    "plt.plot(rus_data.index, rus_data['diff1'], label='diff1')\n",
    "\n",
    "plt.plot(rus_data.index, exp_1, color = 'red', label=\"экспоненциальное сглаживание\")\n",
    "plt.xlabel('time')\n",
    "plt.ylabel('Confirmed')\n",
    "plt.legend()\n",
    "plt.title('COVID_19 RUS')"
   ]
  },
  {
   "cell_type": "markdown",
   "metadata": {},
   "source": [
    "### Формирование признаков"
   ]
  },
  {
   "cell_type": "code",
   "execution_count": 119,
   "metadata": {},
   "outputs": [],
   "source": [
    "df = pd.DataFrame(exp_1, index=rus_data.index)"
   ]
  },
  {
   "cell_type": "code",
   "execution_count": 138,
   "metadata": {},
   "outputs": [],
   "source": [
    " # добавим историю на глубину 5 измерения от текущего (р=5)\n",
    "df['t'] = 0\n",
    "df.iloc[1:,1]=df.iloc[:-1,0].values\n",
    "df['t1']=0\n",
    "df.iloc[2:,2]=df.iloc[:-2,0].values\n",
    "df['t2']=0\n",
    "df.iloc[3:,3]=df.iloc[:-3,0].values\n",
    "df['t3']=0\n",
    "df.iloc[4:,4]=df.iloc[:-4,0].values\n",
    "df['t4']=0\n",
    "df.iloc[5:,5]=df.iloc[:-5,0].values\n",
    "df.fillna(0)\n",
    "\n",
    "df['exp_0_01'] = exponential_smoothing(df[0], 0.05)\n",
    "\n",
    "# добавим первые разности\n",
    "df['diff1'] = 0\n",
    "df['diff1'] = df[0].diff(1)\n",
    "df['diff1'].fillna(0, inplace=True)\n",
    "\n",
    "# добавим исходные данные с вычетом тренда\n",
    "df['no_trend'] = rus_data['Confirmed'] - exp_1"
   ]
  },
  {
   "cell_type": "code",
   "execution_count": 139,
   "metadata": {},
   "outputs": [
    {
     "data": {
      "text/html": [
       "<div>\n",
       "<style scoped>\n",
       "    .dataframe tbody tr th:only-of-type {\n",
       "        vertical-align: middle;\n",
       "    }\n",
       "\n",
       "    .dataframe tbody tr th {\n",
       "        vertical-align: top;\n",
       "    }\n",
       "\n",
       "    .dataframe thead th {\n",
       "        text-align: right;\n",
       "    }\n",
       "</style>\n",
       "<table border=\"1\" class=\"dataframe\">\n",
       "  <thead>\n",
       "    <tr style=\"text-align: right;\">\n",
       "      <th></th>\n",
       "      <th>0</th>\n",
       "      <th>t</th>\n",
       "      <th>t1</th>\n",
       "      <th>t2</th>\n",
       "      <th>t3</th>\n",
       "      <th>t4</th>\n",
       "      <th>exp_0_01</th>\n",
       "      <th>diff1</th>\n",
       "      <th>no_trend</th>\n",
       "    </tr>\n",
       "    <tr>\n",
       "      <th>Data</th>\n",
       "      <th></th>\n",
       "      <th></th>\n",
       "      <th></th>\n",
       "      <th></th>\n",
       "      <th></th>\n",
       "      <th></th>\n",
       "      <th></th>\n",
       "      <th></th>\n",
       "      <th></th>\n",
       "    </tr>\n",
       "  </thead>\n",
       "  <tbody>\n",
       "    <tr>\n",
       "      <th>2020-01-31</th>\n",
       "      <td>2.000000</td>\n",
       "      <td>0.000000</td>\n",
       "      <td>0.000000</td>\n",
       "      <td>0.000000</td>\n",
       "      <td>0.000000</td>\n",
       "      <td>0.000000</td>\n",
       "      <td>2.000000</td>\n",
       "      <td>0.000000</td>\n",
       "      <td>0.000000</td>\n",
       "    </tr>\n",
       "    <tr>\n",
       "      <th>2020-02-01</th>\n",
       "      <td>2.000000</td>\n",
       "      <td>2.000000</td>\n",
       "      <td>0.000000</td>\n",
       "      <td>0.000000</td>\n",
       "      <td>0.000000</td>\n",
       "      <td>0.000000</td>\n",
       "      <td>2.000000</td>\n",
       "      <td>0.000000</td>\n",
       "      <td>0.000000</td>\n",
       "    </tr>\n",
       "    <tr>\n",
       "      <th>2020-02-02</th>\n",
       "      <td>2.000000</td>\n",
       "      <td>2.000000</td>\n",
       "      <td>2.000000</td>\n",
       "      <td>0.000000</td>\n",
       "      <td>0.000000</td>\n",
       "      <td>0.000000</td>\n",
       "      <td>2.000000</td>\n",
       "      <td>0.000000</td>\n",
       "      <td>0.000000</td>\n",
       "    </tr>\n",
       "    <tr>\n",
       "      <th>2020-02-03</th>\n",
       "      <td>2.000000</td>\n",
       "      <td>2.000000</td>\n",
       "      <td>2.000000</td>\n",
       "      <td>2.000000</td>\n",
       "      <td>0.000000</td>\n",
       "      <td>0.000000</td>\n",
       "      <td>2.000000</td>\n",
       "      <td>0.000000</td>\n",
       "      <td>0.000000</td>\n",
       "    </tr>\n",
       "    <tr>\n",
       "      <th>2020-02-04</th>\n",
       "      <td>2.000000</td>\n",
       "      <td>2.000000</td>\n",
       "      <td>2.000000</td>\n",
       "      <td>2.000000</td>\n",
       "      <td>2.000000</td>\n",
       "      <td>0.000000</td>\n",
       "      <td>2.000000</td>\n",
       "      <td>0.000000</td>\n",
       "      <td>0.000000</td>\n",
       "    </tr>\n",
       "    <tr>\n",
       "      <th>...</th>\n",
       "      <td>...</td>\n",
       "      <td>...</td>\n",
       "      <td>...</td>\n",
       "      <td>...</td>\n",
       "      <td>...</td>\n",
       "      <td>...</td>\n",
       "      <td>...</td>\n",
       "      <td>...</td>\n",
       "      <td>...</td>\n",
       "    </tr>\n",
       "    <tr>\n",
       "      <th>2020-04-07</th>\n",
       "      <td>853.543054</td>\n",
       "      <td>717.962300</td>\n",
       "      <td>603.165612</td>\n",
       "      <td>505.495523</td>\n",
       "      <td>419.260738</td>\n",
       "      <td>343.143610</td>\n",
       "      <td>200.979303</td>\n",
       "      <td>135.580754</td>\n",
       "      <td>6643.456946</td>\n",
       "    </tr>\n",
       "    <tr>\n",
       "      <th>2020-04-08</th>\n",
       "      <td>1009.912193</td>\n",
       "      <td>853.543054</td>\n",
       "      <td>717.962300</td>\n",
       "      <td>603.165612</td>\n",
       "      <td>505.495523</td>\n",
       "      <td>419.260738</td>\n",
       "      <td>241.425948</td>\n",
       "      <td>156.369139</td>\n",
       "      <td>7662.087807</td>\n",
       "    </tr>\n",
       "    <tr>\n",
       "      <th>2020-04-09</th>\n",
       "      <td>1192.333949</td>\n",
       "      <td>1009.912193</td>\n",
       "      <td>853.543054</td>\n",
       "      <td>717.962300</td>\n",
       "      <td>603.165612</td>\n",
       "      <td>505.495523</td>\n",
       "      <td>288.971348</td>\n",
       "      <td>182.421756</td>\n",
       "      <td>8938.666051</td>\n",
       "    </tr>\n",
       "    <tr>\n",
       "      <th>2020-04-10</th>\n",
       "      <td>1406.827270</td>\n",
       "      <td>1192.333949</td>\n",
       "      <td>1009.912193</td>\n",
       "      <td>853.543054</td>\n",
       "      <td>717.962300</td>\n",
       "      <td>603.165612</td>\n",
       "      <td>344.864144</td>\n",
       "      <td>214.493321</td>\n",
       "      <td>10510.172730</td>\n",
       "    </tr>\n",
       "    <tr>\n",
       "      <th>2020-04-11</th>\n",
       "      <td>1650.370725</td>\n",
       "      <td>1406.827270</td>\n",
       "      <td>1192.333949</td>\n",
       "      <td>1009.912193</td>\n",
       "      <td>853.543054</td>\n",
       "      <td>717.962300</td>\n",
       "      <td>410.139473</td>\n",
       "      <td>243.543455</td>\n",
       "      <td>11933.629275</td>\n",
       "    </tr>\n",
       "  </tbody>\n",
       "</table>\n",
       "<p>72 rows × 9 columns</p>\n",
       "</div>"
      ],
      "text/plain": [
       "                      0            t           t1           t2          t3  \\\n",
       "Data                                                                         \n",
       "2020-01-31     2.000000     0.000000     0.000000     0.000000    0.000000   \n",
       "2020-02-01     2.000000     2.000000     0.000000     0.000000    0.000000   \n",
       "2020-02-02     2.000000     2.000000     2.000000     0.000000    0.000000   \n",
       "2020-02-03     2.000000     2.000000     2.000000     2.000000    0.000000   \n",
       "2020-02-04     2.000000     2.000000     2.000000     2.000000    2.000000   \n",
       "...                 ...          ...          ...          ...         ...   \n",
       "2020-04-07   853.543054   717.962300   603.165612   505.495523  419.260738   \n",
       "2020-04-08  1009.912193   853.543054   717.962300   603.165612  505.495523   \n",
       "2020-04-09  1192.333949  1009.912193   853.543054   717.962300  603.165612   \n",
       "2020-04-10  1406.827270  1192.333949  1009.912193   853.543054  717.962300   \n",
       "2020-04-11  1650.370725  1406.827270  1192.333949  1009.912193  853.543054   \n",
       "\n",
       "                    t4    exp_0_01       diff1      no_trend  \n",
       "Data                                                          \n",
       "2020-01-31    0.000000    2.000000    0.000000      0.000000  \n",
       "2020-02-01    0.000000    2.000000    0.000000      0.000000  \n",
       "2020-02-02    0.000000    2.000000    0.000000      0.000000  \n",
       "2020-02-03    0.000000    2.000000    0.000000      0.000000  \n",
       "2020-02-04    0.000000    2.000000    0.000000      0.000000  \n",
       "...                ...         ...         ...           ...  \n",
       "2020-04-07  343.143610  200.979303  135.580754   6643.456946  \n",
       "2020-04-08  419.260738  241.425948  156.369139   7662.087807  \n",
       "2020-04-09  505.495523  288.971348  182.421756   8938.666051  \n",
       "2020-04-10  603.165612  344.864144  214.493321  10510.172730  \n",
       "2020-04-11  717.962300  410.139473  243.543455  11933.629275  \n",
       "\n",
       "[72 rows x 9 columns]"
      ]
     },
     "execution_count": 139,
     "metadata": {},
     "output_type": "execute_result"
    }
   ],
   "source": [
    "df"
   ]
  },
  {
   "cell_type": "markdown",
   "metadata": {},
   "source": [
    "### Делим данные"
   ]
  },
  {
   "cell_type": "code",
   "execution_count": 140,
   "metadata": {},
   "outputs": [],
   "source": [
    "def split_data(data, split_date):\n",
    "    return data.loc[data.index <= split_date].copy(), data.loc[data.index > split_date].copy()\n",
    "\n",
    "def mean_absolute_percentage_error(y_true, y_pred): \n",
    "    y_true, y_pred = np.array(y_true), np.array(y_pred)\n",
    "    return np.mean(np.abs((y_true - y_pred) / y_true)) * 100"
   ]
  },
  {
   "cell_type": "code",
   "execution_count": 152,
   "metadata": {},
   "outputs": [
    {
     "data": {
      "image/png": "[encoded data removed]",
      "text/plain": [
       "<Figure size 1080x504 with 1 Axes>"
      ]
     },
     "metadata": {
      "needs_background": "light"
     },
     "output_type": "display_data"
    }
   ],
   "source": [
    "train, test = split_data(df, '2020-04-01')\n",
    "\n",
    "X_train = train.iloc[:-1,:]\n",
    "y_train = train[df.columns[0]].values[1:]\n",
    "X_test = test.iloc[:-1,:]\n",
    "y_test = test[df.columns[0]].values[1:]\n",
    "\n",
    "\n",
    "plt.figure( figsize=(15, 7))\n",
    "plt.xlabel('Время')\n",
    "plt.ylabel('COVID_19')\n",
    "plt.plot(train.index, train[df.columns[0]], label='train data')\n",
    "plt.plot(test.index, test[df.columns[0]], label='test data')\n",
    "plt.title( 'Тестовые и тренировочные данные' )\n",
    "plt.legend()\n",
    "plt.show()"
   ]
  },
  {
   "cell_type": "code",
   "execution_count": 153,
   "metadata": {},
   "outputs": [],
   "source": [
    "# не знаю почему на графике пропуск, данные разбились верно"
   ]
  },
  {
   "cell_type": "markdown",
   "metadata": {},
   "source": [
    "__Построим две модели, с глубиной прогноза h=1 и h =10__"
   ]
  },
  {
   "cell_type": "code",
   "execution_count": 154,
   "metadata": {},
   "outputs": [],
   "source": [
    "from catboost import CatBoostRegressor"
   ]
  },
  {
   "cell_type": "code",
   "execution_count": 155,
   "metadata": {},
   "outputs": [],
   "source": [
    "model = CatBoostRegressor(max_depth=15, random_state=42, n_estimators=100, silent=True)\n",
    "model.fit(X_train, y_train) \n",
    "\n",
    "X_test_pred = model.predict(X_test)"
   ]
  },
  {
   "cell_type": "code",
   "execution_count": 156,
   "metadata": {},
   "outputs": [
    {
     "data": {
      "image/png": "[encoded data removed]",
      "text/plain": [
       "<Figure size 1440x576 with 1 Axes>"
      ]
     },
     "metadata": {
      "needs_background": "light"
     },
     "output_type": "display_data"
    },
    {
     "name": "stdout",
     "output_type": "stream",
     "text": [
      "ошибка catb :   64.55744196900397 %\n"
     ]
    }
   ],
   "source": [
    "plt.figure( figsize=(20, 8))\n",
    "plt.xlabel('Время')\n",
    "plt.ylabel('Новых заболевших')\n",
    "plt.plot(df[0], label='исходный ряд')\n",
    "plt.plot(test.index[1:],y_test, label='test data', color='r')\n",
    "plt.plot(test.index[1:],X_test_pred, label='predict data')\n",
    "plt.legend()\n",
    "plt.show()\n",
    "\n",
    "er_g = mean_absolute_percentage_error(y_true=y_test, y_pred=X_test_pred)\n",
    "\n",
    "print('ошибка catb :  ', er_g, '%')"
   ]
  },
  {
   "cell_type": "markdown",
   "metadata": {},
   "source": [
    "Модель отработала очень плохо \n",
    "\n",
    "Вероятно где-то есть логическая ошибка, надо искать "
   ]
  },
  {
   "cell_type": "markdown",
   "metadata": {},
   "source": [
    "Пока имеется такая большая ошибка с h=1, строить модель с большим горизонтом не имеет смысла."
   ]
  },
  {
   "cell_type": "code",
   "execution_count": null,
   "metadata": {},
   "outputs": [],
   "source": []
  }
 ],
 "metadata": {
  "kernelspec": {
   "display_name": "Python 3",
   "language": "python",
   "name": "python3"
  },
  "language_info": {
   "codemirror_mode": {
    "name": "ipython",
    "version": 3
   },
   "file_extension": ".py",
   "mimetype": "text/x-python",
   "name": "python",
   "nbconvert_exporter": "python",
   "pygments_lexer": "ipython3",
   "version": "3.7.6"
  },
  "toc": {
   "base_numbering": 1,
   "nav_menu": {},
   "number_sections": true,
   "sideBar": true,
   "skip_h1_title": false,
   "title_cell": "Table of Contents",
   "title_sidebar": "Contents",
   "toc_cell": false,
   "toc_position": {},
   "toc_section_display": true,
   "toc_window_display": false
  }
 },
 "nbformat": 4,
 "nbformat_minor": 4
}
